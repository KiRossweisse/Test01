{
 "cells": [
  {
   "cell_type": "code",
   "execution_count": 1,
   "id": "f8760119-04d6-4ea5-bc60-35654ddbc8a6",
   "metadata": {},
   "outputs": [],
   "source": [
    "import pandas as pd\n",
    "\n",
    "\n",
    "#Put your path to file here\n",
    "file_path = r\"E:\\Test_data\\Test_data.csv\"\n",
    "\n",
    "#Make sure of the format of your document. Here I converted your document to csv type, that's why I've used read_csv\n",
    "df = pd.read_csv(file_path)"
   ]
  },
  {
   "cell_type": "code",
   "execution_count": 9,
   "id": "abb6b5ce-ca38-47bc-ba00-dc9ef614c605",
   "metadata": {
    "scrolled": true
   },
   "outputs": [
    {
     "name": "stdout",
     "output_type": "stream",
     "text": [
      "<class 'pandas.core.frame.DataFrame'>\n",
      "RangeIndex: 13 entries, 0 to 12\n",
      "Data columns (total 10 columns):\n",
      " #   Column            Non-Null Count  Dtype         \n",
      "---  ------            --------------  -----         \n",
      " 0   Order ID          13 non-null     int64         \n",
      " 1   Region            13 non-null     object        \n",
      " 2   Product Category  13 non-null     object        \n",
      " 3   Sales Amount      13 non-null     int64         \n",
      " 4   Cost              13 non-null     int64         \n",
      " 5   Profit            13 non-null     int64         \n",
      " 6   Order Date        13 non-null     datetime64[ns]\n",
      " 7   Customer Segment  13 non-null     object        \n",
      " 8   Profit Margin     13 non-null     float64       \n",
      " 9   YearMonth         13 non-null     period[M]     \n",
      "dtypes: datetime64[ns](1), float64(1), int64(4), object(3), period[M](1)\n",
      "memory usage: 1.1+ KB\n",
      "None\n",
      "   Order ID Region Product Category  Sales Amount  Cost  Profit Order Date  \\\n",
      "0      1001  North      Electronics          1500  1000     500 2023-06-01   \n",
      "1      1002  South        Furniture           800   600     200 2023-06-03   \n",
      "2      1003   East      Electronics          1200   900     300 2023-06-05   \n",
      "3      1004   West  Office Supplies           600   450     150 2023-06-10   \n",
      "4      1005  North        Furniture           500   300     200 2023-06-12   \n",
      "\n",
      "  Customer Segment  Profit Margin YearMonth  \n",
      "0        Corporate       0.333333   2023-06  \n",
      "1   Small Business       0.250000   2023-06  \n",
      "2        Corporate       0.250000   2023-06  \n",
      "3         Consumer       0.250000   2023-06  \n",
      "4         Consumer       0.400000   2023-06  \n"
     ]
    }
   ],
   "source": [
    "# Printing the dataframe\n",
    "print(df.info())\n",
    "print(df.head())"
   ]
  },
  {
   "cell_type": "code",
   "execution_count": 10,
   "id": "539d8d12-2dcc-4c8c-bc44-1e9c59b9b1f7",
   "metadata": {},
   "outputs": [
    {
     "name": "stdout",
     "output_type": "stream",
     "text": [
      "Order ID            0\n",
      "Region              0\n",
      "Product Category    0\n",
      "Sales Amount        0\n",
      "Cost                0\n",
      "Profit              0\n",
      "Order Date          0\n",
      "Customer Segment    0\n",
      "Profit Margin       0\n",
      "YearMonth           0\n",
      "dtype: int64\n"
     ]
    }
   ],
   "source": [
    "# Checking for completeness \n",
    "print(df.isnull().sum())\n",
    "\n",
    "# Converting Order Date to a date format\n",
    "df[\"Order Date\"] = pd.to_datetime(df[\"Order Date\"], format=\"%m/%d/%Y\")\n",
    "\n",
    "# Defining profit margin\n",
    "df[\"Profit Margin\"] = df[\"Profit\"] / df[\"Sales Amount\"]"
   ]
  },
  {
   "cell_type": "code",
   "execution_count": 4,
   "id": "4c204ae8-6ed7-430b-afd1-68e3693558b9",
   "metadata": {},
   "outputs": [
    {
     "name": "stdout",
     "output_type": "stream",
     "text": [
      "  Region  Total_Sales  Total_Profit    Avg_Sales\n",
      "0   East         3200           900  1066.666667\n",
      "1  North         4800          1350  1200.000000\n",
      "2  South         3700           800  1233.333333\n",
      "3   West         4100           950  1366.666667\n"
     ]
    }
   ],
   "source": [
    "# Grouping by region\n",
    "sales_by_region = df.groupby(\"Region\").agg(\n",
    "    Total_Sales=(\"Sales Amount\", \"sum\"),\n",
    "    Total_Profit=(\"Profit\", \"sum\"),\n",
    "    Avg_Sales=(\"Sales Amount\", \"mean\")\n",
    ").reset_index()\n",
    "\n",
    "print(sales_by_region)\n"
   ]
  },
  {
   "cell_type": "code",
   "execution_count": 5,
   "id": "faf1e3c0-3dde-482d-88a8-3ef5a47b0289",
   "metadata": {},
   "outputs": [
    {
     "name": "stdout",
     "output_type": "stream",
     "text": [
      "  Product Category  Total_Sales  Total_Profit  Avg_Profit_Margin\n",
      "0      Electronics         8900          2200           0.251725\n",
      "1        Furniture         3600          1000           0.289423\n",
      "2  Office Supplies         3300           800           0.246302\n"
     ]
    }
   ],
   "source": [
    "# Data Summarization\n",
    "category_sales = df.groupby(\"Product Category\").agg(\n",
    "    Total_Sales=(\"Sales Amount\", \"sum\"),\n",
    "    Total_Profit=(\"Profit\", \"sum\"),\n",
    "    Avg_Profit_Margin=(\"Profit Margin\", \"mean\")\n",
    ").reset_index()\n",
    "\n",
    "print(category_sales)\n"
   ]
  },
  {
   "cell_type": "code",
   "execution_count": 6,
   "id": "47782574-d14c-4633-ad8f-2a0bf1239ca7",
   "metadata": {},
   "outputs": [
    {
     "name": "stdout",
     "output_type": "stream",
     "text": [
      "  Customer Segment  Total_Sales  Total_Profit\n",
      "0         Consumer         4600          1150\n",
      "1        Corporate         7500          2050\n",
      "2   Small Business         3700           800\n"
     ]
    }
   ],
   "source": [
    "# Trend analysis\n",
    "customer_segment_analysis = df.groupby(\"Customer Segment\").agg(\n",
    "    Total_Sales=(\"Sales Amount\", \"sum\"),\n",
    "    Total_Profit=(\"Profit\", \"sum\")\n",
    ").reset_index()\n",
    "\n",
    "print(customer_segment_analysis)\n"
   ]
  },
  {
   "cell_type": "code",
   "execution_count": 7,
   "id": "e1b3cff1-df0a-4033-9259-f3b47e5d5aae",
   "metadata": {},
   "outputs": [
    {
     "data": {
      "image/png": "[encoded data removed]",
      "text/plain": [
       "<Figure size 640x480 with 1 Axes>"
      ]
     },
     "metadata": {},
     "output_type": "display_data"
    }
   ],
   "source": [
    "import matplotlib.pyplot as plt\n",
    "# Grouping by order date\n",
    "df[\"YearMonth\"] = df[\"Order Date\"].dt.to_period(\"M\")\n",
    "sales_trend = df.groupby(\"YearMonth\")[\"Sales Amount\"].sum()\n",
    "\n",
    "# Ploting\n",
    "sales_trend.plot(kind=\"line\", marker=\"o\", title=\"Sales trend\")\n",
    "plt.xlabel(\"Data\")\n",
    "plt.ylabel(\"Sales Amount\")\n",
    "plt.xticks(rotation=45)\n",
    "plt.grid()\n",
    "plt.show()\n"
   ]
  },
  {
   "cell_type": "code",
   "execution_count": 8,
   "id": "171a1e9f-182d-4d8e-a433-23a27e7e0e00",
   "metadata": {},
   "outputs": [
    {
     "name": "stdout",
     "output_type": "stream",
     "text": [
      "Top region:\n",
      "  Region  Total_Sales  Total_Profit  Avg_Sales\n",
      "1  North         4800          1350     1200.0\n",
      "Worst region:\n",
      "  Region  Total_Sales  Total_Profit    Avg_Sales\n",
      "2  South         3700           800  1233.333333\n"
     ]
    }
   ],
   "source": [
    "# Sorting by top and worst regions\n",
    "top_region = sales_by_region.sort_values(by=\"Total_Profit\", ascending=False).head(1)\n",
    "worst_region = sales_by_region.sort_values(by=\"Total_Profit\", ascending=True).head(1)\n",
    "\n",
    "print(f\"Top region:\\n{top_region}\")\n",
    "print(f\"Worst region:\\n{worst_region}\")\n"
   ]
  },
  {
   "cell_type": "code",
   "execution_count": null,
   "id": "869253e4-325f-4fe7-a6ba-73409630a5f4",
   "metadata": {},
   "outputs": [],
   "source": []
  }
 ],
 "metadata": {
  "kernelspec": {
   "display_name": "Python 3 (ipykernel)",
   "language": "python",
   "name": "python3"
  },
  "language_info": {
   "codemirror_mode": {
    "name": "ipython",
    "version": 3
   },
   "file_extension": ".py",
   "mimetype": "text/x-python",
   "name": "python",
   "nbconvert_exporter": "python",
   "pygments_lexer": "ipython3",
   "version": "3.11.5"
  }
 },
 "nbformat": 4,
 "nbformat_minor": 5
}
